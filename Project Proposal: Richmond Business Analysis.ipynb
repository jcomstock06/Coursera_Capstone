{
    "cells": [
        {
            "cell_type": "markdown",
            "metadata": {
                "collapsed": true
            },
            "source": "# Richmond, Virginia Business Opportunity Analysis"
        },
        {
            "cell_type": "markdown",
            "metadata": {},
            "source": "## Problem Description"
        },
        {
            "cell_type": "markdown",
            "metadata": {},
            "source": " In 2019, a Reason Foundation study of economic freedom in United States metropolitan areas ranked Richmond, VA, number 4 of the top ten with the greatest economic freedom (https://reason.org/policy-study/us-metropolitan-area-economic-freedom-index/). For an entrepreneur looking to start a business in the city of Richmond, what locations are desirable? Further, are there underlying patterns in the existing venues that could present an opportunity for an insurgent business? For example, there may be patterns among restaurants that would suggest an opportunity for a delivery service or a logistical coordination."
        },
        {
            "cell_type": "markdown",
            "metadata": {},
            "source": "## Data"
        },
        {
            "cell_type": "markdown",
            "metadata": {},
            "source": " Data for this analysis comes from Foursquare.com, the City of Richmond, VA, the United States Census Bureau, and the United States Internal Revenue Service. Neighborhood data comes from the City of Richmond. The Census Bureau was the source of income and poverty data. Tabulated income information by zip code came from the IRS. \n\nCity of Richmond Data Portal: Parcel Geographic Summary. https://data.richmondgov.com/browse?category=Unique+and+Inclusive+Neighborhoods \n\nInternal Revenue Service: 2017 VA Income. https://www.irs.gov/statistics/soi-tax-stats-individual-income-tax-statistics-2017-zip-code-data-soi\n\nCensus Bureau: 2017 Income and Poverty. https://www.census.gov/data/tables/2019/demo/income-poverty/p60-266.html\n"
        },
        {
            "cell_type": "markdown",
            "metadata": {},
            "source": "## Methodology"
        },
        {
            "cell_type": "markdown",
            "metadata": {},
            "source": " First, I will use Richmond neighborhood data to identify zip codes and neighborhoods. Then, I will use Foursquare to gather data on venues, and I will conduct an exploratory analysis of venues by neighborhood. Income and economic data from the IRS and Census Bureau will provide an economic context for the neighborhood analysis. I will investigate neighborhood trends with respect to Foursquare-listed venues and personal income and economic data. Analysis will result in demonstrably identifying neighborhoods that are ripe for business development, identifying trends among businesses, and potentially identifying new opportunities based on business trends."
        },
        {
            "cell_type": "markdown",
            "metadata": {},
            "source": ""
        }
    ],
    "metadata": {
        "kernelspec": {
            "display_name": "Python 3.6",
            "language": "python",
            "name": "python3"
        },
        "language_info": {
            "codemirror_mode": {
                "name": "ipython",
                "version": 3
            },
            "file_extension": ".py",
            "mimetype": "text/x-python",
            "name": "python",
            "nbconvert_exporter": "python",
            "pygments_lexer": "ipython3",
            "version": "3.6.9"
        }
    },
    "nbformat": 4,
    "nbformat_minor": 1
}
